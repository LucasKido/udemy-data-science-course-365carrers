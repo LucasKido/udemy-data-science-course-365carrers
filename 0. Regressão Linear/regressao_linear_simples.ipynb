{
 "cells": [
  {
   "cell_type": "markdown",
   "metadata": {},
   "source": [
    "<h1><center>Regressão Linear Simples</center></h1>"
   ]
  },
  {
   "cell_type": "markdown",
   "metadata": {},
   "source": [
    "<h2>Introdução</h2>\n",
    "\n",
    "Esse é um exercício de regressão linear simples do curso <a href='https://www.udemy.com/the-data-science-course-complete-data-science-bootcamp/'>The Data Science Course 2019: The Complete Data Science Bootcamp</a>, onde nos é dado um dataset do mercado imobiliário e devemos criar a regressão linear do preço do imóvel utilizando seu tamanho.<br>\n",
    "Aproveitando este exercício, vou utilizar estes dados para iniciar meu caderno de estudo no curso, que servirá para mim posteriormente como fonte de revisão.\n",
    "\n",
    "<a name='INDICE'></a>\n",
    "<h2>Índice</h2>\n",
    "<ol>\n",
    "    <li><a href='#REG_LIN'>Regressão Linear</a></li>\n",
    "    <ol>\n",
    "        <li><a href='#REG_LIN_SIM'>Regressão Linear Simples</a></li>\n",
    "        <li><a href='#MET_MIN_QUA'>Método dos Mínimos Quadrados</a></li>\n",
    "        <li><a href='#R_QUAD'>Coeficiente de Determinação (R²)</a></li>\n",
    "    </ol>\n",
    "    <li><a href='#EXERCICIO'>Exercício</a></li>\n",
    "    <ol>\n",
    "        <li><a href='#BIBLIOTECA'>Importando as bibliotecas</a></li>\n",
    "        <li><a href='#EXPLORAR'>Explorando os dados</a></li>\n",
    "        <li><a href='#REGRESSAO'>Criando a regressão</a></li>\n",
    "        <li><a href='#ANALISE'>Analisando o modelo</a></li>\n",
    "    </ol>\n",
    "    <li><a href='#CONCLUSAO'>Conclusão</a></li>\n",
    "</ol>\n",
    "\n",
    "<a name='REG_LIN'></a>\n",
    "<h2>Regressão Linear</h2>\n",
    "\n",
    "É a aproximação linear de uma relação causal entre duas ou mais variáveis, se a relação é entre duas variáveis temos uma Regressão Linear Simples (RLS), que vamos utilizar neste exemplo, ou se temos uma relação entre três ou mais variáveis temos uma Regressão Linear Múltipla (RLM). É uma das formas mais comuns de fazer inferências e previsões.\n",
    "\n",
    "<a name='REG_LIN_SIM'></a>\n",
    "<h3>Regressão Linear Simples</h3>\n",
    "\n",
    "A Regressão Linear Simples pode ser descrita como uma função de primeiro grau, expressa pela seguinte equação:<br>\n",
    "<br>\n",
    "\\begin{align}\n",
    "\\ y & = \\ a + bx_{1} \\\\\n",
    "\\end{align}\n",
    "<br>\n",
    "Onde descreve uma reta com os comportamentos dados das duas variáveis, a variável dependente <i>y</i> e a variável independente <i>x</i>. Já os parâmetros <i>a</i> e <i>b</i> são os coeficientes de regressão que representam o intercepto e a inclinação, e devem ser calculados, porém como calculamos os elementos <i>a</i> e <i>b</i>?<br>\n",
    "Para isso temos o Método dos Mínimos Quadrados.\n",
    "\n",
    "<a name='MET_MIN_QUA'></a>\n",
    "<h3>Método dos Mínimos Quadrados</h3>\n",
    "\n",
    "Método dos mínimos quadrados (MMQ) ou em inglês Ordinary Least Squares (OLS) visa diminuir a soma dos quadrados dos resíduos ou SSE (Sum Square Error) para aumentar a explicabilidade da regressão. Para compreender melhor esse termo é necessário conhecer mais outras duas somas dos quadrados:\n",
    "<ul>\n",
    "    <li><b>SSR (Sum Square Regression):</b> a Soma dos Quadrados da Regressão é a diferença entre os pontos e a média, e é a variação atribuída ao erro. Ou seja, quanto maior o SSR melhor o modelo poderá explicar os resultados.</li><br>\n",
    "\\begin{align}\n",
    "\\ SSR = \\sum{( \\hat{Y_{i}} - \\bar{Y})^2}\n",
    "\\end{align}\n",
    "    <br>\n",
    "    <li><b>SSE (Sum Square Error):</b> a Soma dos Quadrados dos Resíduos é a diferença entre o valor previsto pela regressão e o valor real, a variabilidade não explicada pelo modelo.</li>\n",
    "\\begin{align}\n",
    "\\ SSE = \\sum{( Y_{i} - \\hat{Y_{i}})^2}\n",
    "\\end{align}\n",
    "    <br>\n",
    "    <li><b>SST (Sum Square Total):</b> a Soma Total dos Quadrados demonstra a variação total da variável dependente.</li><br>\n",
    "\\begin{align}\n",
    "\\ SST = \\sum{( Y_{i} - \\bar{Y})^2} \\\\ \\\\\n",
    "\\ SST = SSR + SSE\n",
    "\\end{align}\n",
    "</ul>\n",
    "<br>\n",
    "<img src='./img/sst_ssr_sse.png' vspace='10px' hspace='10px'/>\n",
    "<br>\n",
    "Ok, agora que entendemos o funcionamento do método, como avaliamos o quanto a nossa regressão explica a relação das variáveis?<br>Para isso temos o coeficiente de determinação, ou mais conhecido como R Quadrado (R²).\n",
    "\n",
    "<a name='R_QUAD'></a>\n",
    "<h3>Coeficiente de Determinação (R²)</h3>\n",
    "\n",
    "R Quadrado é uma medida que varia de 0 à 1, quanto mais perto de 1, melhor o modelo pode explicar os valores. E para calcular o coeficiente é necessário duas medidas que acabamos que ver, SSR e SST.<br>\n",
    "\\begin{align}\n",
    "\\ R^2 = 1 - \\frac{SSR}{SST}\n",
    "\\end{align}\n",
    "<br>\n",
    "<a href='#INDICE'>Voltar para o índice</a><br>\n",
    "\n",
    "<a name='EXERCICIO'></a>\n",
    "<h2>Exercício</h2>\n",
    "\n",
    "Após toda essa teoria, chegou a hora de colocarmos em prática. Para resolver esse exercício iremos utilizar a biblioteca StatsModel, então será necessário importar algumas bibliotecas.<br>\n",
    "\n",
    "<a name='BIBLIOTECA'></a>\n",
    "<h3>Importando as bibliotecas</h3>"
   ]
  },
  {
   "cell_type": "code",
   "execution_count": 1,
   "metadata": {},
   "outputs": [],
   "source": [
    "import pandas as pd\n",
    "import numpy as np\n",
    "import matplotlib.pyplot as plt\n",
    "import seaborn as sns\n",
    "import statsmodels.api as sm\n",
    "%matplotlib inline"
   ]
  },
  {
   "cell_type": "code",
   "execution_count": 2,
   "metadata": {
    "scrolled": true
   },
   "outputs": [
    {
     "data": {
      "text/html": [
       "<div>\n",
       "<style scoped>\n",
       "    .dataframe tbody tr th:only-of-type {\n",
       "        vertical-align: middle;\n",
       "    }\n",
       "\n",
       "    .dataframe tbody tr th {\n",
       "        vertical-align: top;\n",
       "    }\n",
       "\n",
       "    .dataframe thead th {\n",
       "        text-align: right;\n",
       "    }\n",
       "</style>\n",
       "<table border=\"1\" class=\"dataframe\">\n",
       "  <thead>\n",
       "    <tr style=\"text-align: right;\">\n",
       "      <th></th>\n",
       "      <th>price</th>\n",
       "      <th>size</th>\n",
       "    </tr>\n",
       "  </thead>\n",
       "  <tbody>\n",
       "    <tr>\n",
       "      <th>0</th>\n",
       "      <td>234314.144</td>\n",
       "      <td>643.09</td>\n",
       "    </tr>\n",
       "    <tr>\n",
       "      <th>1</th>\n",
       "      <td>228581.528</td>\n",
       "      <td>656.22</td>\n",
       "    </tr>\n",
       "    <tr>\n",
       "      <th>2</th>\n",
       "      <td>281626.336</td>\n",
       "      <td>487.29</td>\n",
       "    </tr>\n",
       "    <tr>\n",
       "      <th>3</th>\n",
       "      <td>401255.608</td>\n",
       "      <td>1504.75</td>\n",
       "    </tr>\n",
       "    <tr>\n",
       "      <th>4</th>\n",
       "      <td>458674.256</td>\n",
       "      <td>1275.46</td>\n",
       "    </tr>\n",
       "  </tbody>\n",
       "</table>\n",
       "</div>"
      ],
      "text/plain": [
       "        price     size\n",
       "0  234314.144   643.09\n",
       "1  228581.528   656.22\n",
       "2  281626.336   487.29\n",
       "3  401255.608  1504.75\n",
       "4  458674.256  1275.46"
      ]
     },
     "execution_count": 2,
     "metadata": {},
     "output_type": "execute_result"
    }
   ],
   "source": [
    "df = pd.read_csv('real_estate_price_size.csv')\n",
    "df.head()"
   ]
  },
  {
   "cell_type": "markdown",
   "metadata": {},
   "source": [
    "Com as bibliotecas importadas e dataset carregado, vamos verificar se há algum dado faltante."
   ]
  },
  {
   "cell_type": "code",
   "execution_count": 3,
   "metadata": {},
   "outputs": [
    {
     "data": {
      "text/plain": [
       "price    0\n",
       "size     0\n",
       "dtype: int64"
      ]
     },
     "execution_count": 3,
     "metadata": {},
     "output_type": "execute_result"
    }
   ],
   "source": [
    "df.isnull().sum()"
   ]
  },
  {
   "cell_type": "markdown",
   "metadata": {},
   "source": [
    "Como não há nenhum dado faltante, podemos começar a explorar o nosso dataset.\n",
    "\n",
    "<a name='EXPLORAR'></a>\n",
    "<h3>Explorando os dados</h3>\n",
    "\n",
    "Primeiro vamos utilizar do método <i>describe</i> para vermos a tendência central e a dispersão dos nossos dados."
   ]
  },
  {
   "cell_type": "code",
   "execution_count": 4,
   "metadata": {},
   "outputs": [
    {
     "data": {
      "text/html": [
       "<div>\n",
       "<style scoped>\n",
       "    .dataframe tbody tr th:only-of-type {\n",
       "        vertical-align: middle;\n",
       "    }\n",
       "\n",
       "    .dataframe tbody tr th {\n",
       "        vertical-align: top;\n",
       "    }\n",
       "\n",
       "    .dataframe thead th {\n",
       "        text-align: right;\n",
       "    }\n",
       "</style>\n",
       "<table border=\"1\" class=\"dataframe\">\n",
       "  <thead>\n",
       "    <tr style=\"text-align: right;\">\n",
       "      <th></th>\n",
       "      <th>price</th>\n",
       "      <th>size</th>\n",
       "    </tr>\n",
       "  </thead>\n",
       "  <tbody>\n",
       "    <tr>\n",
       "      <th>count</th>\n",
       "      <td>100.000000</td>\n",
       "      <td>100.000000</td>\n",
       "    </tr>\n",
       "    <tr>\n",
       "      <th>mean</th>\n",
       "      <td>292289.470160</td>\n",
       "      <td>853.024200</td>\n",
       "    </tr>\n",
       "    <tr>\n",
       "      <th>std</th>\n",
       "      <td>77051.727525</td>\n",
       "      <td>297.941951</td>\n",
       "    </tr>\n",
       "    <tr>\n",
       "      <th>min</th>\n",
       "      <td>154282.128000</td>\n",
       "      <td>479.750000</td>\n",
       "    </tr>\n",
       "    <tr>\n",
       "      <th>25%</th>\n",
       "      <td>234280.148000</td>\n",
       "      <td>643.330000</td>\n",
       "    </tr>\n",
       "    <tr>\n",
       "      <th>50%</th>\n",
       "      <td>280590.716000</td>\n",
       "      <td>696.405000</td>\n",
       "    </tr>\n",
       "    <tr>\n",
       "      <th>75%</th>\n",
       "      <td>335723.696000</td>\n",
       "      <td>1029.322500</td>\n",
       "    </tr>\n",
       "    <tr>\n",
       "      <th>max</th>\n",
       "      <td>500681.128000</td>\n",
       "      <td>1842.510000</td>\n",
       "    </tr>\n",
       "  </tbody>\n",
       "</table>\n",
       "</div>"
      ],
      "text/plain": [
       "               price         size\n",
       "count     100.000000   100.000000\n",
       "mean   292289.470160   853.024200\n",
       "std     77051.727525   297.941951\n",
       "min    154282.128000   479.750000\n",
       "25%    234280.148000   643.330000\n",
       "50%    280590.716000   696.405000\n",
       "75%    335723.696000  1029.322500\n",
       "max    500681.128000  1842.510000"
      ]
     },
     "execution_count": 4,
     "metadata": {},
     "output_type": "execute_result"
    }
   ],
   "source": [
    "df.describe()"
   ]
  },
  {
   "cell_type": "markdown",
   "metadata": {},
   "source": [
    "Após isso vamos plotar um gráfico de dispersão entre as variáveis para facilitar ainda mais a nosso visualização."
   ]
  },
  {
   "cell_type": "code",
   "execution_count": 5,
   "metadata": {},
   "outputs": [
    {
     "data": {
      "image/png": "[encoded data removed]",
      "text/plain": [
       "<Figure size 432x288 with 1 Axes>"
      ]
     },
     "metadata": {},
     "output_type": "display_data"
    }
   ],
   "source": [
    "plt.style.use('seaborn-whitegrid')\n",
    "plt.figure(figsize=(6,4))\n",
    "plt.scatter(x=df['size'], y=df['price'])\n",
    "plt.xlabel('Size')\n",
    "plt.ylabel('Price')\n",
    "plt.show()"
   ]
  },
  {
   "cell_type": "markdown",
   "metadata": {},
   "source": [
    "<a name='REGRESSAO'></a>\n",
    "<h3>Criando a Regressão</h3>\n",
    "\n",
    "Antes de criarmos a regressão precisamos separar qual é a nossa variável dependente e independente."
   ]
  },
  {
   "cell_type": "code",
   "execution_count": 6,
   "metadata": {},
   "outputs": [],
   "source": [
    "x = df['size']    #Variável Independente\n",
    "y = df['price']   #Variável Dependente"
   ]
  },
  {
   "cell_type": "markdown",
   "metadata": {},
   "source": [
    "Pronto, variáveis declaradas, porém o <i>StatsModels</i> necessita que adicionamos um constante para o X."
   ]
  },
  {
   "cell_type": "code",
   "execution_count": 7,
   "metadata": {},
   "outputs": [],
   "source": [
    "X = sm.add_constant(x)"
   ]
  },
  {
   "cell_type": "markdown",
   "metadata": {},
   "source": [
    "Agora estamos pronto para criar a regressão."
   ]
  },
  {
   "cell_type": "code",
   "execution_count": 8,
   "metadata": {},
   "outputs": [
    {
     "data": {
      "text/html": [
       "<table class=\"simpletable\">\n",
       "<caption>OLS Regression Results</caption>\n",
       "<tr>\n",
       "  <th>Dep. Variable:</th>          <td>price</td>      <th>  R-squared:         </th> <td>   0.745</td>\n",
       "</tr>\n",
       "<tr>\n",
       "  <th>Model:</th>                   <td>OLS</td>       <th>  Adj. R-squared:    </th> <td>   0.742</td>\n",
       "</tr>\n",
       "<tr>\n",
       "  <th>Method:</th>             <td>Least Squares</td>  <th>  F-statistic:       </th> <td>   285.9</td>\n",
       "</tr>\n",
       "<tr>\n",
       "  <th>Date:</th>             <td>Tue, 14 May 2019</td> <th>  Prob (F-statistic):</th> <td>8.13e-31</td>\n",
       "</tr>\n",
       "<tr>\n",
       "  <th>Time:</th>                 <td>11:29:39</td>     <th>  Log-Likelihood:    </th> <td> -1198.3</td>\n",
       "</tr>\n",
       "<tr>\n",
       "  <th>No. Observations:</th>      <td>   100</td>      <th>  AIC:               </th> <td>   2401.</td>\n",
       "</tr>\n",
       "<tr>\n",
       "  <th>Df Residuals:</th>          <td>    98</td>      <th>  BIC:               </th> <td>   2406.</td>\n",
       "</tr>\n",
       "<tr>\n",
       "  <th>Df Model:</th>              <td>     1</td>      <th>                     </th>     <td> </td>   \n",
       "</tr>\n",
       "<tr>\n",
       "  <th>Covariance Type:</th>      <td>nonrobust</td>    <th>                     </th>     <td> </td>   \n",
       "</tr>\n",
       "</table>\n",
       "<table class=\"simpletable\">\n",
       "<tr>\n",
       "    <td></td>       <th>coef</th>     <th>std err</th>      <th>t</th>      <th>P>|t|</th>  <th>[0.025</th>    <th>0.975]</th>  \n",
       "</tr>\n",
       "<tr>\n",
       "  <th>const</th> <td> 1.019e+05</td> <td> 1.19e+04</td> <td>    8.550</td> <td> 0.000</td> <td> 7.83e+04</td> <td> 1.26e+05</td>\n",
       "</tr>\n",
       "<tr>\n",
       "  <th>size</th>  <td>  223.1787</td> <td>   13.199</td> <td>   16.909</td> <td> 0.000</td> <td>  196.986</td> <td>  249.371</td>\n",
       "</tr>\n",
       "</table>\n",
       "<table class=\"simpletable\">\n",
       "<tr>\n",
       "  <th>Omnibus:</th>       <td> 6.262</td> <th>  Durbin-Watson:     </th> <td>   2.267</td>\n",
       "</tr>\n",
       "<tr>\n",
       "  <th>Prob(Omnibus):</th> <td> 0.044</td> <th>  Jarque-Bera (JB):  </th> <td>   2.938</td>\n",
       "</tr>\n",
       "<tr>\n",
       "  <th>Skew:</th>          <td> 0.117</td> <th>  Prob(JB):          </th> <td>   0.230</td>\n",
       "</tr>\n",
       "<tr>\n",
       "  <th>Kurtosis:</th>      <td> 2.194</td> <th>  Cond. No.          </th> <td>2.75e+03</td>\n",
       "</tr>\n",
       "</table><br/><br/>Warnings:<br/>[1] Standard Errors assume that the covariance matrix of the errors is correctly specified.<br/>[2] The condition number is large, 2.75e+03. This might indicate that there are<br/>strong multicollinearity or other numerical problems."
      ],
      "text/plain": [
       "<class 'statsmodels.iolib.summary.Summary'>\n",
       "\"\"\"\n",
       "                            OLS Regression Results                            \n",
       "==============================================================================\n",
       "Dep. Variable:                  price   R-squared:                       0.745\n",
       "Model:                            OLS   Adj. R-squared:                  0.742\n",
       "Method:                 Least Squares   F-statistic:                     285.9\n",
       "Date:                Tue, 14 May 2019   Prob (F-statistic):           8.13e-31\n",
       "Time:                        11:29:39   Log-Likelihood:                -1198.3\n",
       "No. Observations:                 100   AIC:                             2401.\n",
       "Df Residuals:                      98   BIC:                             2406.\n",
       "Df Model:                           1                                         \n",
       "Covariance Type:            nonrobust                                         \n",
       "==============================================================================\n",
       "                 coef    std err          t      P>|t|      [0.025      0.975]\n",
       "------------------------------------------------------------------------------\n",
       "const       1.019e+05   1.19e+04      8.550      0.000    7.83e+04    1.26e+05\n",
       "size         223.1787     13.199     16.909      0.000     196.986     249.371\n",
       "==============================================================================\n",
       "Omnibus:                        6.262   Durbin-Watson:                   2.267\n",
       "Prob(Omnibus):                  0.044   Jarque-Bera (JB):                2.938\n",
       "Skew:                           0.117   Prob(JB):                        0.230\n",
       "Kurtosis:                       2.194   Cond. No.                     2.75e+03\n",
       "==============================================================================\n",
       "\n",
       "Warnings:\n",
       "[1] Standard Errors assume that the covariance matrix of the errors is correctly specified.\n",
       "[2] The condition number is large, 2.75e+03. This might indicate that there are\n",
       "strong multicollinearity or other numerical problems.\n",
       "\"\"\""
      ]
     },
     "execution_count": 8,
     "metadata": {},
     "output_type": "execute_result"
    }
   ],
   "source": [
    "reg = sm.OLS(y,X).fit()\n",
    "reg.summary()"
   ]
  },
  {
   "cell_type": "markdown",
   "metadata": {},
   "source": [
    "Modelo criado, agora plotamos o mesmo gráfico de dispersão só que com a reta da regressão linear."
   ]
  },
  {
   "cell_type": "code",
   "execution_count": 9,
   "metadata": {},
   "outputs": [
    {
     "data": {
      "image/png": "[encoded data removed]",
      "text/plain": [
       "<Figure size 432x288 with 1 Axes>"
      ]
     },
     "metadata": {},
     "output_type": "display_data"
    }
   ],
   "source": [
    "plt.figure(figsize=(6,4))\n",
    "plt.scatter(x,y)\n",
    "reg_lin = x*223.1787+101900\n",
    "plt.plot(x, reg_lin, c='red', lw=2, alpha=0.7)\n",
    "plt.xlabel('Size')\n",
    "plt.ylabel('Price')\n",
    "plt.show()"
   ]
  },
  {
   "cell_type": "markdown",
   "metadata": {},
   "source": [
    "<a name='ANALISE'></a>\n",
    "<h3>Analisando o modelo</h3>\n",
    "\n",
    "Modelo criado, porém como avaliamos se é um bom ou mau modelo? Para isso voltamos aplicamos a teoria para entendermos todas as medidas que o método <i>Summary</i> nos passa em 3 tabelas. A primeira tabela, nos traz uma série de informações sobre o modelo:\n",
    "\n",
    "<img src='./img/summary_model.png' width=\"400\" height=\"600\"/>"
   ]
  },
  {
   "cell_type": "markdown",
   "metadata": {},
   "source": [
    "Aqui podemos fazer um double check se a variável dependente foi inserida corretamente e o modelo. Já nas medidas, as mais importantes são <i>F-statistic</i> e <i>R-squared</i>, que nos diz que o nosso modelo pode explicar 74,5%.<br>\n",
    "<img src='./img/summary_variable.png' width='400' height='600'/>\n",
    "\n",
    "Já a segunda tabela foca mais nas variáveis e com ela é possível ver o coeficiente e a significância de cada variável, e nas seguinites colunas:\n",
    "<ul>\n",
    "    <li><b>coef:</b> como o nome já diz fornece os coeficientes <i>a</i> e <i>b</i> da equação da regressão linear;</li>\n",
    "    <li><b>std err:</b> é o erro padrão e quanto menor melhor a acurácia da predição;</li>\n",
    "    <li><b>P>|t|:</b> é um teste de hipótese das variáveis, onde a hipótese nula é se a variável é igual a zero, ou seja, se a variável é significante para o modelo ou não.</li>\n",
    "</ul>\n",
    "\n",
    "<a href='#INDICE'>Voltar para o índice</a>\n",
    "\n",
    "<a name='CONCLUSAO'></a>\n",
    "<h2>Conclusão</h2>\n",
    "\n",
    "Essa foi a resolução do exercício de regressão linear, apesar de ser básico é uma forma simples e eficaz para fazer uma predição de algo utilizando apenas uma variável. É uma ferramenta poderosa e que pode ser calculada na mão que servirá de conhecimento para outros modelos.<br>\n",
    "Resolvi acrescentar a teoria para que sirva como uma revisão e consulta no futuro.<br>\n",
    "\n",
    "<a href='#INDICE'>Voltar para o índice</a>"
   ]
  }
 ],
 "metadata": {
  "kernelspec": {
   "display_name": "Python 3",
   "language": "python",
   "name": "python3"
  },
  "language_info": {
   "codemirror_mode": {
    "name": "ipython",
    "version": 3
   },
   "file_extension": ".py",
   "mimetype": "text/x-python",
   "name": "python",
   "nbconvert_exporter": "python",
   "pygments_lexer": "ipython3",
   "version": "3.7.1"
  }
 },
 "nbformat": 4,
 "nbformat_minor": 2
}
